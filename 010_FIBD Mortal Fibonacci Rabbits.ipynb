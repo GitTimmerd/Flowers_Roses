{
 "cells": [
  {
   "cell_type": "code",
   "execution_count": 107,
   "metadata": {},
   "outputs": [],
   "source": [
    "%reset -f\n",
    "from collections import OrderedDict\n",
    "from scipy.special import comb as ncr\n",
    "from ROSALIND_utils import *"
   ]
  },
  {
   "cell_type": "code",
   "execution_count": 112,
   "metadata": {},
   "outputs": [],
   "source": [
    "def getData():\n",
    "    with open('C:/Users/Gebruiker/Python/ROSALIND/Data/010_FIBD.txt') as f:\n",
    "        #content = read_fasta(f)\n",
    "        n, m = map(int,f.readline().split())\n",
    "    return n, m\n",
    "\n",
    "\n",
    "def compute():\n",
    "    n, m = getData()\n",
    "    return mortal_fib(n,m)\n",
    "\n",
    "def mortal_fib(n,m):\n",
    "    ages = [0]*m\n",
    "    rabbits = 0\n",
    "    for month in range(1,n+1):\n",
    "        if month == 1:\n",
    "            rabbits = 1\n",
    "            ages[0] = 1\n",
    "        if month == 2:\n",
    "            rabbits = 1\n",
    "            ages[0] = 0\n",
    "            ages[1] = 1\n",
    "        else:\n",
    "            newborns = sum(ages[1:m])\n",
    "            ages.pop()\n",
    "            ages.insert(0,newborns)\n",
    "    return sum(ages)\n",
    "        "
   ]
  },
  {
   "cell_type": "code",
   "execution_count": 113,
   "metadata": {},
   "outputs": [
    {
     "data": {
      "text/plain": [
       "19422747110843061063"
      ]
     },
     "execution_count": 113,
     "metadata": {},
     "output_type": "execute_result"
    }
   ],
   "source": [
    "compute()"
   ]
  },
  {
   "cell_type": "code",
   "execution_count": 114,
   "metadata": {},
   "outputs": [
    {
     "name": "stdout",
     "output_type": "stream",
     "text": [
      "314 µs ± 18.4 µs per loop (mean ± std. dev. of 7 runs, 1000 loops each)\n"
     ]
    }
   ],
   "source": [
    "%timeit compute()"
   ]
  }
 ],
 "metadata": {
  "kernelspec": {
   "display_name": "Python 3",
   "language": "python",
   "name": "python3"
  },
  "language_info": {
   "codemirror_mode": {
    "name": "ipython",
    "version": 3
   },
   "file_extension": ".py",
   "mimetype": "text/x-python",
   "name": "python",
   "nbconvert_exporter": "python",
   "pygments_lexer": "ipython3",
   "version": "3.6.5"
  }
 },
 "nbformat": 4,
 "nbformat_minor": 2
}
