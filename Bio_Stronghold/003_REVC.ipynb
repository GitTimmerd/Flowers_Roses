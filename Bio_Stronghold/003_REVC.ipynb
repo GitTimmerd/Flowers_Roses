{
 "cells": [
  {
   "cell_type": "code",
   "execution_count": 43,
   "metadata": {},
   "outputs": [],
   "source": [
    "def getData():\n",
    "    with open('C:/Users/Gebruiker/Python/ROSALIND/Data/003_REVC.txt') as f:\n",
    "        content = f.readline()\n",
    "        content = content.replace('\\n','')\n",
    "    return content\n",
    "\n",
    "def swap(text, ch1, ch2):\n",
    "    text = text.replace(ch2, '!',)\n",
    "    text = text.replace(ch1, ch2)\n",
    "    text = text.replace('!', ch1)\n",
    "    return text\n",
    "\n",
    "def compute():\n",
    "    DNA = getData()\n",
    "    DNA_c = DNA[::-1]\n",
    "    DNA_c = swap(DNA_c,'A','T')\n",
    "    DNA_c = swap(DNA_c,'C','G')\n",
    "    print(DNA_c)\n",
    "    \n",
    "\n",
    "    \n"
   ]
  },
  {
   "cell_type": "code",
   "execution_count": 44,
   "metadata": {},
   "outputs": [
    {
     "name": "stdout",
     "output_type": "stream",
     "text": [
      "CAGTGAAAAGCCGACGTCGTAAATGAATTTGTGGGCTGAGTGATGCGTTCGCATTAGGTAGTAACCTTGTGAGGTGTTTTGACAGGTATTGAGGTGTGGCGCATCTCCATTTGTTAGCGGGGCGGTAACTTTATTCAATCTCTCCCCGTCCCATTCACGAGGCTAACCCGGGTGGGTGCACCTGGGGTCCTATATTCTGACAAACATCGGTCCCTGCGTCGAATAGCTGCCGCCAAGTAGATTGGTATCGGGATGTGCGCCGTTTATTCCGACGCTGACAGCAGCGCGCTCCCCCACTCTCCGTGCGGGCCGCAAATCGTAAAGAAAGGCTGACCGGAAGACCCATATGGCAACCCTCCCTACTAAATACTACCGCGGTACCCACTTGCCAAATGTTCTACGTAGGCCTTCTGTAGAAAAGGGGTAATCGGCCGGAACCGAGAACCTAGCTTCATAGACCTGTGCCTCCTAAAAAACCTAGCGGGCGCTACTTGCCATTACGGTTAATACCTTGCAGTATCATCACACTTTCCTTCTCAGTCAGATTTCTTCCCGACCTAATTTCCGCCACCTACTAGGATGCGTATCAAAGCACCTGCCCCATACCCGAGCAATTTATTCATGCGGTCAAGTCCTCCCACGTTTCTCATCTGTGCCACTAAATGCGAAACTGTTTGAGCCTCGGGTGCCCGCGAGTATTGGCTGGCACGTGCTACACGCACACGCTCCTGAAGTACCACGCCAGATTGTCATGGTATAATTCAGTTTTCGCTACGTCGACTTTCCACCGGATGGTTAAACTACCACGGTCGGAGTGCTCACTAATGGTCGAGTGTTACAGTCGCATAGGTCGATTACACAGATGAATTATGTGGCCTCTAGCACCGG\n"
     ]
    }
   ],
   "source": [
    "compute()"
   ]
  },
  {
   "cell_type": "code",
   "execution_count": null,
   "metadata": {},
   "outputs": [],
   "source": []
  }
 ],
 "metadata": {
  "kernelspec": {
   "display_name": "Python 3",
   "language": "python",
   "name": "python3"
  },
  "language_info": {
   "codemirror_mode": {
    "name": "ipython",
    "version": 3
   },
   "file_extension": ".py",
   "mimetype": "text/x-python",
   "name": "python",
   "nbconvert_exporter": "python",
   "pygments_lexer": "ipython3",
   "version": "3.6.5"
  }
 },
 "nbformat": 4,
 "nbformat_minor": 2
}
