{
 "cells": [
  {
   "cell_type": "code",
   "execution_count": 44,
   "metadata": {},
   "outputs": [],
   "source": [
    "def getData():\n",
    "    with open('C:/Users/Gebruiker/Python/ROSALIND/Data/001_DNA.txt') as f:\n",
    "        content = f.readline()\n",
    "    return content\n",
    "\n",
    "def compute():\n",
    "    DNA = getData()\n",
    "    DNA_count = [str(DNA.count(x)) for x in 'ACGT']\n",
    "    print(' '.join(DNA_count))"
   ]
  },
  {
   "cell_type": "code",
   "execution_count": 45,
   "metadata": {},
   "outputs": [
    {
     "name": "stdout",
     "output_type": "stream",
     "text": [
      "215 250 233 194\n"
     ]
    }
   ],
   "source": [
    "compute()"
   ]
  }
 ],
 "metadata": {
  "kernelspec": {
   "display_name": "Python 3",
   "language": "python",
   "name": "python3"
  },
  "language_info": {
   "codemirror_mode": {
    "name": "ipython",
    "version": 3
   },
   "file_extension": ".py",
   "mimetype": "text/x-python",
   "name": "python",
   "nbconvert_exporter": "python",
   "pygments_lexer": "ipython3",
   "version": "3.6.5"
  }
 },
 "nbformat": 4,
 "nbformat_minor": 2
}
