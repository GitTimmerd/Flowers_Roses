{
 "cells": [
  {
   "cell_type": "code",
   "execution_count": 110,
   "metadata": {},
   "outputs": [],
   "source": [
    "%reset -f\n",
    "from collections import OrderedDict\n",
    "from scipy.special import comb as ncr\n",
    "from ROSALIND_utils import *"
   ]
  },
  {
   "cell_type": "code",
   "execution_count": 113,
   "metadata": {},
   "outputs": [],
   "source": [
    "def getData():\n",
    "    with open('C:/Users/Gebruiker/Python/ROSALIND/Data/007_IPRB.txt') as f:\n",
    "        #content = read_fasta(f)\n",
    "        dom, het, rec = map(int,f.readline().split())\n",
    "    return dom, het, rec\n",
    "\n",
    "\n",
    "def compute():\n",
    "    dom, het, rec = getData()\n",
    "    tot = 4 * ncr(dom+het+rec,2)\n",
    "    totrecessive = 4 * ncr(rec,2) + 2*ncr(rec,1)*ncr(het,1) + 1 * ncr(het,2)\n",
    "    return 1 - totrecessive/tot\n",
    "        \n",
    "    \n"
   ]
  },
  {
   "cell_type": "code",
   "execution_count": 114,
   "metadata": {},
   "outputs": [
    {
     "data": {
      "text/plain": [
       "0.763406292749658"
      ]
     },
     "execution_count": 114,
     "metadata": {},
     "output_type": "execute_result"
    }
   ],
   "source": [
    "compute()"
   ]
  },
  {
   "cell_type": "code",
   "execution_count": null,
   "metadata": {},
   "outputs": [],
   "source": []
  }
 ],
 "metadata": {
  "kernelspec": {
   "display_name": "Python 3",
   "language": "python",
   "name": "python3"
  },
  "language_info": {
   "codemirror_mode": {
    "name": "ipython",
    "version": 3
   },
   "file_extension": ".py",
   "mimetype": "text/x-python",
   "name": "python",
   "nbconvert_exporter": "python",
   "pygments_lexer": "ipython3",
   "version": "3.6.5"
  }
 },
 "nbformat": 4,
 "nbformat_minor": 2
}
