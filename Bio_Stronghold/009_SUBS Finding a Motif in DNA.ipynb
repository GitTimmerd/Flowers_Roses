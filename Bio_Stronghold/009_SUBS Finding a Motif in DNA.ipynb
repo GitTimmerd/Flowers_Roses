{
 "cells": [
  {
   "cell_type": "code",
   "execution_count": 32,
   "metadata": {},
   "outputs": [],
   "source": [
    "%reset -f\n",
    "from collections import OrderedDict\n",
    "from scipy.special import comb as ncr\n",
    "from ROSALIND_utils import *"
   ]
  },
  {
   "cell_type": "code",
   "execution_count": 33,
   "metadata": {},
   "outputs": [],
   "source": [
    "def getData():\n",
    "    with open('C:/Users/Gebruiker/Python/ROSALIND/Data/009_SUBS.txt') as f:\n",
    "        #content = read_fasta(f)\n",
    "        content = f.readlines()\n",
    "        content = [line.rstrip(\"\\n\") for line in content]\n",
    "        DNA = content[0]\n",
    "        Motif = content[1]\n",
    "    return DNA, Motif\n",
    "\n",
    "\n",
    "def compute():\n",
    "    DNA, Motif = getData()\n",
    "    locations = ''\n",
    "    for i in range(len(DNA)-len(Motif)+1):\n",
    "        if DNA[i:i+len(Motif)] == Motif:\n",
    "            locations += str(i+1)+' '\n",
    "    print(locations[:-1])"
   ]
  },
  {
   "cell_type": "code",
   "execution_count": 34,
   "metadata": {},
   "outputs": [
    {
     "name": "stdout",
     "output_type": "stream",
     "text": [
      "55 65 72 102 154 162 198 205 212 220 228 236 243 290 306 337 377 458 465 487 503 529 536 554 562 585 593 627 646 653 664 696 746 786\n"
     ]
    }
   ],
   "source": [
    "compute()"
   ]
  }
 ],
 "metadata": {
  "kernelspec": {
   "display_name": "Python 3",
   "language": "python",
   "name": "python3"
  },
  "language_info": {
   "codemirror_mode": {
    "name": "ipython",
    "version": 3
   },
   "file_extension": ".py",
   "mimetype": "text/x-python",
   "name": "python",
   "nbconvert_exporter": "python",
   "pygments_lexer": "ipython3",
   "version": "3.6.5"
  }
 },
 "nbformat": 4,
 "nbformat_minor": 2
}
