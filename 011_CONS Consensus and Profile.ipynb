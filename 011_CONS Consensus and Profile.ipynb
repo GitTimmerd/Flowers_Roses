{
 "cells": [
  {
   "cell_type": "code",
   "execution_count": 103,
   "metadata": {},
   "outputs": [],
   "source": [
    "%reset -f\n",
    "from ROSALIND_utils import *"
   ]
  },
  {
   "cell_type": "code",
   "execution_count": 104,
   "metadata": {},
   "outputs": [],
   "source": [
    "def getData():\n",
    "    with open('C:/Users/Gebruiker/Python/ROSALIND/Data/011_CONS.txt') as f:\n",
    "        content = read_fasta(f)\n",
    "    return content\n",
    "\n",
    "\n",
    "def compute():\n",
    "    Data = getData()\n",
    "    DNA_id, DNA_strings = zip(*Data.items())\n",
    "    m = len(DNA_strings[0]) # Counting the length of the DNA strings to analyze\n",
    "    dic = {'A':[0]*m,'C':[0]*m,'G':[0]*m,'T':[0]*m}\n",
    "    for DNA in DNA_strings:\n",
    "        i = 0\n",
    "        for amino in DNA:\n",
    "            dic[amino][i] += 1\n",
    "            i += 1\n",
    "\n",
    "\n",
    "    consensus = ['n']*m\n",
    "    for i in range(m):\n",
    "        max_amino = 0\n",
    "        for amino in 'ACGT':\n",
    "            if dic[amino][i] > max_amino:\n",
    "                consensus[i] = amino\n",
    "                max_amino = dic[amino][i]\n",
    "    print(''.join(consensus))\n",
    "    for amino in 'ACGT':\n",
    "        print(amino+': '+' '.join(str(x) for x in dic[amino]))\n",
    "\n",
    "        "
   ]
  },
  {
   "cell_type": "code",
   "execution_count": 108,
   "metadata": {},
   "outputs": [
    {
     "data": {
      "text/plain": [
       "1"
      ]
     },
     "execution_count": 108,
     "metadata": {},
     "output_type": "execute_result"
    }
   ],
   "source": [
    "compute()"
   ]
  },
  {
   "cell_type": "code",
   "execution_count": null,
   "metadata": {},
   "outputs": [],
   "source": []
  }
 ],
 "metadata": {
  "kernelspec": {
   "display_name": "Python 3",
   "language": "python",
   "name": "python3"
  },
  "language_info": {
   "codemirror_mode": {
    "name": "ipython",
    "version": 3
   },
   "file_extension": ".py",
   "mimetype": "text/x-python",
   "name": "python",
   "nbconvert_exporter": "python",
   "pygments_lexer": "ipython3",
   "version": "3.6.5"
  }
 },
 "nbformat": 4,
 "nbformat_minor": 2
}
