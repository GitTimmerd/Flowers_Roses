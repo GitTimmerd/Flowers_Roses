{
 "cells": [
  {
   "cell_type": "code",
   "execution_count": 140,
   "metadata": {},
   "outputs": [],
   "source": [
    "%reset -f\n",
    "from collections import OrderedDict\n",
    "from ROSALIND_utils import *"
   ]
  },
  {
   "cell_type": "code",
   "execution_count": 141,
   "metadata": {},
   "outputs": [],
   "source": [
    "def getData():\n",
    "    with open('C:/Users/Gebruiker/Python/ROSALIND/Data/006_HAMM.txt') as f:\n",
    "        #content = read_fasta(f)\n",
    "        content = f.readlines()\n",
    "        content = [line.rstrip(\"\\n\") for line in content]\n",
    "    return content\n",
    "\n",
    "\n",
    "def compute():\n",
    "    DNA = getData()\n",
    "    ham = 0\n",
    "    for i in range(len(DNA[0])):\n",
    "        if DNA[0][i] != DNA[1][i]:\n",
    "            ham += 1\n",
    "    return ham\n",
    "        \n",
    "    \n"
   ]
  },
  {
   "cell_type": "code",
   "execution_count": 142,
   "metadata": {},
   "outputs": [
    {
     "data": {
      "text/plain": [
       "461"
      ]
     },
     "execution_count": 142,
     "metadata": {},
     "output_type": "execute_result"
    }
   ],
   "source": [
    "compute()"
   ]
  },
  {
   "cell_type": "code",
   "execution_count": 133,
   "metadata": {},
   "outputs": [],
   "source": [
    "a = getData()"
   ]
  },
  {
   "cell_type": "code",
   "execution_count": 135,
   "metadata": {},
   "outputs": [
    {
     "data": {
      "text/plain": [
       "['TTGGTGTCATCGACACCAGCCGAATCTCTTAGTCGTGTAGAGAATGCGTGTCTACATGACGTGTACAGTGAAACTGGGGGGAGTTGGTCATTTGTGGGGTAGACCATAAAACGGAGATTTGGCGCGGGGAACTATGTAGATCGGATTCCAAGAACGCAGCACCGTTATTGGCTAAACATCAAGGCTTGAGCCTCGTCTATCATTTGTTCTGGCTTTTTGTTATGGCGGTGGGAAGGAAAAGGGCCCGCGCATGGCTAGGTTAACGATTCACGATCCTCACGGAAAGGCCATCCGGCACTACACGCCGCAACCCCTGTATCGTGACCGGTTTCTACTGATATCCAACGTTCGGTCCACTAGGCATAGTGACGCCTACTAGAATTTGAAACCACCCCTATGTATAAATAAATCTAAATTGTTTACCGATAAGACTTCTGCGTAACGCGAAACTGTAGGAGGAAGTTGAGCTTATCATAGTTGAAATTGCAGTAGCGGAACGACGGCCGCCAAGTGAGCTAACACCTCGGTGATTCCACCATATATACATATAGGGCGGGAGATCGGGTCGCAGAGAAGCGACTCACGGCACGCACCCGTTCTCTTTGTGATACCTAGATGAGGCTAATACATCCCTCCTTATCTCACGCGTCGATCGTAACTATTAGGGCTAATACACGGTGAGATCAGATGTGACATCATGAATGAGTCAGTCTCATCGGTTCATGCACACCTGGTAGCACCGGATACGCGCTATTGAGATTCAGTTCCCTCGTCGTTTCGATGTGCACTTGTTTGGTTATCCCTGTAGATGCTTCATCGCAATGAAGTACAACCGGACAAGAATACCATTTGTTACCTAGTGTCGGATCCGGAGCTGCTTTCCGAGTGACTACGGACAGACGATAAGCCCACACCGGTGTTCGTCAGGAAGCTAAATCATAAGTAATCAACCGAGCTATTTTATTTCGATGTTAATGTACAGAT',\n",
       " 'TTGGAGTCTTCATCACCCGACCGACCGTTAAGTGGTGTGCAGAAGGCGTATCTGCATGACGTATTCTCTACGAATGGAGGTAGAGCGTAATCTAGCGCTTAAACCAACATGGTGATTGATGCCTCCGATGAATGCGGGGAGCGGACGCCATGTTACAAGCCCCGGTTGTTAATAAACATAAACGAGAGTTGTTCATGCAAAATGTGGTTAACGCCATGGCCATCAGGCGGTCTGCTACACCGCCCGGTGCATCGTTATGTCTCGAAGTCATAATATTCTAGGAAATCTCATACATGACCATGACCGCGAATATCTTTAGCGTGGACAGCCACATAGTAACTCCGACGGACGGTGCCACATTCACAGTGGGTCGTACGTCAAATGCAAACAGACTTTATATATACATAAATCGAGATATGATCCCTACAAGATTTTTATTGACCGCTAAACTATAGTTGACAAACCGCCTTATCTAGGCTGACGTTGCAGTGCCTGAACGCGGTCCCCTACTGGGGATACGGCCGCTATCATTCAAGATGCCCATCAGCCGCGGAGCGACAGGGGGTAAAACCAAACCCATACAGGACACAGACATGTTGTGCCGACGTTATCTGTAGCCCGATCAACCAAACGGCCTTTAGTCGGATGGCCAGCGTAGCTAACCGTGGCGATACAGGGTAAGATGCCTCTTCGCAACAATGGTGACATTGTCTACTAGGACAAAGCAGGTCGGGCAGAAACCGCTTCTCGATCGAGCGAATCAAGGCGTTCCTCGAATCGTTCGGTTTAGCTCCTGTTCTCTCCGGTTAATAGCCGTTGGGAGGAAGTTCCCTCATACTATTATTCCGTTTCTTCCCTATTCCCTGAGCCGGATATACTTTAATATTGACATATGAGAGACAATACGCTTTGGTAGGGTATAGTGACCCCGATACACCTATAATACTCACGAAAGATAATTCATTGCGGTGTTAGGGTGCCTAT']"
      ]
     },
     "execution_count": 135,
     "metadata": {},
     "output_type": "execute_result"
    }
   ],
   "source": [
    "a"
   ]
  },
  {
   "cell_type": "code",
   "execution_count": null,
   "metadata": {},
   "outputs": [],
   "source": []
  }
 ],
 "metadata": {
  "kernelspec": {
   "display_name": "Python 3",
   "language": "python",
   "name": "python3"
  },
  "language_info": {
   "codemirror_mode": {
    "name": "ipython",
    "version": 3
   },
   "file_extension": ".py",
   "mimetype": "text/x-python",
   "name": "python",
   "nbconvert_exporter": "python",
   "pygments_lexer": "ipython3",
   "version": "3.6.5"
  }
 },
 "nbformat": 4,
 "nbformat_minor": 2
}
