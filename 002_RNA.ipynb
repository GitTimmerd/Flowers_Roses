{
 "cells": [
  {
   "cell_type": "code",
   "execution_count": 11,
   "metadata": {},
   "outputs": [],
   "source": [
    "def getData():\n",
    "    with open('C:/Users/Gebruiker/Python/ROSALIND/Data/001_RNA.txt') as f:\n",
    "        content = f.readline()\n",
    "    return content\n",
    "\n",
    "def compute():\n",
    "    DNA = getData()\n",
    "    RNA = DNA.replace('T','U')\n",
    "    print(RNA)"
   ]
  },
  {
   "cell_type": "code",
   "execution_count": 12,
   "metadata": {},
   "outputs": [
    {
     "name": "stdout",
     "output_type": "stream",
     "text": [
      "AGUUGGUCGUGACCCUAUCGGCCAGGGGACCUACAUUCUCGAUAAGGAGGGUUAAGGAGGUCCGGCCUUUGACACACGCAGCUAGGGUUCUAAAUGCCUACUACCUACUUACUAUAGCGGAUGGGAGUUUCUGAACCCGUCCCUUCUCUAAAUUUUGACAGACUACCUACCUGACAAUGUCCCUAAGUUAAUAAGCCUCUCCGACUUCUGUGAUGCCAACAGUCGGUCUAUAGGUUAUCACUACGCCAAACUGCGUAAGAACAUAACGAACGCGUACGGGACAUCUACCAGUGCCAGCGACGUACCAUAAUGGUUUCGCUUGGGGCAGUAGAGACCCAGGCCAAUGUCAGCUUUUGACCGGAUAGCUCCCUUCUGUUGGAGAGCAACGCGGUUUAUGGCAUACUGACCCAAUUUGAACUUUUGGGACAACAUUGAUCGCCCUGCGGCAUGCGGUUUAGAUGCGCGGGAUUUCGCGCUAGAGCUACGCCUGGUUUCUCAACUAAAUCACGCCGAAAUAACAGAGUCACAAAUGUUCACUAUGCCCUUCUUAUGACGAAUCCAUUUCCCUUAGGGUGGUAACAGCUUUUAAUAUAUGACGUAUGAAAAUGCCCUCGACGUUCUGACCGGCGUUACGGGAGACCAAUCGUGGUGUUUGUGGGCUCGAUCAUAACUUACUCCGCUUGCAACCACCGUGCGCCCCUUUAUACUACGAUUGACAGUGCCACUUAUAGAUUUAAAACGAAUAAGCCCGGGUGGACUUGGGAUCCUCCCGAACGAAGCCAGUUCCCCAGCUAGUGAUCUGCGACGUGACCCAUAGACAGCAACUAAUAACAGUACCCACCUUAUGUUUGAGUGUUGCGAUUCUGACUUGUCCCUGACCUUCCCUUAUGUGCAACAGCGAUUACUUACAAACAACUGCUCAGCUCCGGUUGUCAUAGUCAAUUGGAUCCGCCAC\n",
      "\n"
     ]
    }
   ],
   "source": [
    "compute()"
   ]
  },
  {
   "cell_type": "code",
   "execution_count": null,
   "metadata": {},
   "outputs": [],
   "source": []
  }
 ],
 "metadata": {
  "kernelspec": {
   "display_name": "Python 3",
   "language": "python",
   "name": "python3"
  },
  "language_info": {
   "codemirror_mode": {
    "name": "ipython",
    "version": 3
   },
   "file_extension": ".py",
   "mimetype": "text/x-python",
   "name": "python",
   "nbconvert_exporter": "python",
   "pygments_lexer": "ipython3",
   "version": "3.6.5"
  }
 },
 "nbformat": 4,
 "nbformat_minor": 2
}
